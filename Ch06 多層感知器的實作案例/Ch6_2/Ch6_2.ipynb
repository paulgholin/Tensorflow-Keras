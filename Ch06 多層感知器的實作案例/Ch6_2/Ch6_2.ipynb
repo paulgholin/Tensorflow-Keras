{
 "cells": [
  {
   "cell_type": "markdown",
   "metadata": {},
   "source": [
    "### Ch6_2_1.py"
   ]
  },
  {
   "cell_type": "code",
   "execution_count": 1,
   "metadata": {},
   "outputs": [
    {
     "name": "stdout",
     "output_type": "stream",
     "text": [
      "(1309, 11)\n"
     ]
    }
   ],
   "source": [
    "import pandas as pd\n",
    "\n",
    "# 載入資料集\n",
    "df = pd.read_csv(\"./titanic_data.csv\")\n",
    "# 顯示資料集的形狀\n",
    "print(df.shape)"
   ]
  },
  {
   "cell_type": "markdown",
   "metadata": {},
   "source": [
    "### Ch6_2_1a.py"
   ]
  },
  {
   "cell_type": "code",
   "execution_count": 2,
   "metadata": {},
   "outputs": [
    {
     "name": "stdout",
     "output_type": "stream",
     "text": [
      "   pclass  survived                                             name     sex  \\\n",
      "0       1         1                    Allen  Miss. Elisabeth Walton  female   \n",
      "1       1         1                   Allison  Master. Hudson Trevor    male   \n",
      "2       1         0                     Allison  Miss. Helen Loraine  female   \n",
      "3       1         0             Allison  Mr. Hudson Joshua Creighton    male   \n",
      "4       1         0  Allison  Mrs. Hudson J C (Bessie Waldo Daniels)  female   \n",
      "\n",
      "       age  sibsp  parch  ticket      fare    cabin embarked  \n",
      "0  29.0000      0      0   24160  211.3375       B5        S  \n",
      "1   0.9167      1      2  113781  151.5500  C22 C26        S  \n",
      "2   2.0000      1      2  113781  151.5500  C22 C26        S  \n",
      "3  30.0000      1      2  113781  151.5500  C22 C26        S  \n",
      "4  25.0000      1      2  113781  151.5500  C22 C26        S  \n",
      "            pclass     survived          age        sibsp        parch  \\\n",
      "count  1309.000000  1309.000000  1046.000000  1309.000000  1309.000000   \n",
      "mean      2.294882     0.381971    29.881135     0.498854     0.385027   \n",
      "std       0.837836     0.486055    14.413500     1.041658     0.865560   \n",
      "min       1.000000     0.000000     0.166700     0.000000     0.000000   \n",
      "25%       2.000000     0.000000    21.000000     0.000000     0.000000   \n",
      "50%       3.000000     0.000000    28.000000     0.000000     0.000000   \n",
      "75%       3.000000     1.000000    39.000000     1.000000     0.000000   \n",
      "max       3.000000     1.000000    80.000000     8.000000     9.000000   \n",
      "\n",
      "              fare  \n",
      "count  1308.000000  \n",
      "mean     33.295479  \n",
      "std      51.758668  \n",
      "min       0.000000  \n",
      "25%       7.895800  \n",
      "50%      14.454200  \n",
      "75%      31.275000  \n",
      "max     512.329200  \n"
     ]
    }
   ],
   "source": [
    "import pandas as pd\n",
    "\n",
    "# 載入資料集\n",
    "df = pd.read_csv(\"./titanic_data.csv\")\n",
    "# 查看前5筆記錄\n",
    "print(df.head())\n",
    "df.head().to_html(\"Ch6_2_1a_01.html\")\n",
    "# 顯示資料集的描述資料\n",
    "print(df.describe())\n",
    "df.describe().to_html(\"Ch6_2_1a_02.html\")"
   ]
  },
  {
   "cell_type": "markdown",
   "metadata": {},
   "source": [
    "### Ch6_2_1b.py"
   ]
  },
  {
   "cell_type": "code",
   "execution_count": 3,
   "metadata": {},
   "outputs": [
    {
     "name": "stdout",
     "output_type": "stream",
     "text": [
      "<class 'pandas.core.frame.DataFrame'>\n",
      "RangeIndex: 1309 entries, 0 to 1308\n",
      "Data columns (total 11 columns):\n",
      "pclass      1309 non-null int64\n",
      "survived    1309 non-null int64\n",
      "name        1309 non-null object\n",
      "sex         1309 non-null object\n",
      "age         1046 non-null float64\n",
      "sibsp       1309 non-null int64\n",
      "parch       1309 non-null int64\n",
      "ticket      1309 non-null object\n",
      "fare        1308 non-null float64\n",
      "cabin       295 non-null object\n",
      "embarked    1307 non-null object\n",
      "dtypes: float64(2), int64(4), object(5)\n",
      "memory usage: 112.6+ KB\n",
      "None\n",
      "pclass         0\n",
      "survived       0\n",
      "name           0\n",
      "sex            0\n",
      "age          263\n",
      "sibsp          0\n",
      "parch          0\n",
      "ticket         0\n",
      "fare           1\n",
      "cabin       1014\n",
      "embarked       2\n",
      "dtype: int64\n"
     ]
    }
   ],
   "source": [
    "import pandas as pd\n",
    "\n",
    "# 載入資料集\n",
    "df = pd.read_csv(\"./titanic_data.csv\")\n",
    "# 顯示資料集的資訊\n",
    "print(df.info())\n",
    "# 顯示沒有資料的筆數\n",
    "print(df.isnull().sum())"
   ]
  },
  {
   "cell_type": "markdown",
   "metadata": {},
   "source": [
    "### Ch6_2_2.py"
   ]
  },
  {
   "cell_type": "code",
   "execution_count": 4,
   "metadata": {},
   "outputs": [
    {
     "name": "stdout",
     "output_type": "stream",
     "text": [
      "S    916\n",
      "C    270\n",
      "Q    123\n",
      "Name: embarked, dtype: int64\n",
      "S\n",
      "   pclass  sex      age  sibsp  parch      fare  embarked_C  embarked_Q  \\\n",
      "0       1    1  29.0000      0      0  211.3375           0           0   \n",
      "1       1    0   0.9167      1      2  151.5500           0           0   \n",
      "2       1    1   2.0000      1      2  151.5500           0           0   \n",
      "3       1    0  30.0000      1      2  151.5500           0           0   \n",
      "4       1    1  25.0000      1      2  151.5500           0           0   \n",
      "\n",
      "   embarked_S  survived  \n",
      "0           1         1  \n",
      "1           1         1  \n",
      "2           1         0  \n",
      "3           1         0  \n",
      "4           1         0  \n",
      "Train: (1045, 10)\n",
      "Test: (264, 10)\n"
     ]
    }
   ],
   "source": [
    "import pandas as pd\n",
    "import numpy as np\n",
    "\n",
    "seed = 7\n",
    "np.random.seed(seed)\n",
    "# 載入資料集\n",
    "df = pd.read_csv(\"./titanic_data.csv\")\n",
    "# 刪除不需要的欄位\n",
    "df = df.drop([\"name\", \"ticket\", \"cabin\"], axis=1)\n",
    "# 處理遺失資料\n",
    "df[[\"age\"]] = df[[\"age\"]].fillna(value=df[[\"age\"]].mean())\n",
    "df[[\"fare\"]] = df[[\"fare\"]].fillna(value=df[[\"fare\"]].mean())\n",
    "df[[\"embarked\"]] = df[[\"embarked\"]].fillna(value=df[\"embarked\"].\n",
    "                   value_counts().idxmax())\n",
    "print(df[\"embarked\"].value_counts())\n",
    "print(df[\"embarked\"].value_counts().idxmax())\n",
    "# 轉換分類資料\n",
    "df[\"sex\"] = df[\"sex\"].map( {\"female\": 1, \"male\": 0} ).astype(int)\n",
    "# Embarked欄位的One-hot編碼\n",
    "enbarked_one_hot = pd.get_dummies(df[\"embarked\"], prefix=\"embarked\")\n",
    "df = df.drop(\"embarked\", axis=1)\n",
    "df = df.join(enbarked_one_hot)\n",
    "# 將標籤的 survived 欄位移至最後\n",
    "df_survived = df.pop(\"survived\") \n",
    "df[\"survived\"] = df_survived\n",
    "print(df.head())\n",
    "df.head().to_html(\"Ch6_2_2.html\")\n",
    "# 分割成訓練(80%)和測試(20%)資料集\n",
    "mask = np.random.rand(len(df)) < 0.8\n",
    "df_train = df[mask]\n",
    "df_test = df[~mask]\n",
    "print(\"Train:\", df_train.shape)\n",
    "print(\"Test:\", df_test.shape)\n",
    "# 儲存處理後的資料\n",
    "df_train.to_csv(\"titanic_train.csv\", index=False)\n",
    "df_test.to_csv(\"titanic_test.csv\", index=False)"
   ]
  },
  {
   "cell_type": "markdown",
   "metadata": {},
   "source": [
    "### Ch6_2_3.py"
   ]
  },
  {
   "cell_type": "code",
   "execution_count": 8,
   "metadata": {},
   "outputs": [
    {
     "name": "stdout",
     "output_type": "stream",
     "text": [
      "Model: \"sequential_3\"\n",
      "_________________________________________________________________\n",
      "Layer (type)                 Output Shape              Param #   \n",
      "=================================================================\n",
      "dense_7 (Dense)              (None, 11)                110       \n",
      "_________________________________________________________________\n",
      "dense_8 (Dense)              (None, 11)                132       \n",
      "_________________________________________________________________\n",
      "dense_9 (Dense)              (None, 1)                 12        \n",
      "=================================================================\n",
      "Total params: 254\n",
      "Trainable params: 254\n",
      "Non-trainable params: 0\n",
      "_________________________________________________________________\n",
      "Training ...\n",
      "\n",
      "Testing ...\n",
      "1045/1045 [==============================] - 0s 9us/step\n",
      "訓練資料集的準確度 = 0.83\n",
      "264/264 [==============================] - 0s 16us/step\n",
      "測試資料集的準確度 = 0.82\n"
     ]
    },
    {
     "data": {
      "image/png": "[encoded data removed]",
      "text/plain": [
       "<Figure size 432x288 with 1 Axes>"
      ]
     },
     "metadata": {
      "needs_background": "light"
     },
     "output_type": "display_data"
    },
    {
     "data": {
      "image/png": "[encoded data removed]",
      "text/plain": [
       "<Figure size 432x288 with 1 Axes>"
      ]
     },
     "metadata": {
      "needs_background": "light"
     },
     "output_type": "display_data"
    }
   ],
   "source": [
    "import numpy as np\n",
    "import pandas as pd\n",
    "from keras.models import Sequential\n",
    "from keras.layers import Dense\n",
    "\n",
    "seed = 7\n",
    "np.random.seed(seed)\n",
    "# 載入Titanic的訓練和測試資料集\n",
    "df_train = pd.read_csv(\"./titanic_train.csv\")\n",
    "df_test = pd.read_csv(\"./titanic_test.csv\")\n",
    "dataset_train = df_train.values\n",
    "dataset_test = df_test.values\n",
    "# 分割成特徵資料和標籤資料\n",
    "X_train = dataset_train[:, 0:9]\n",
    "Y_train = dataset_train[:, 9]\n",
    "X_test = dataset_test[:, 0:9]\n",
    "Y_test = dataset_test[:, 9]\n",
    "# 特徵標準化\n",
    "X_train -= X_train.mean(axis=0)\n",
    "X_train /= X_train.std(axis=0)\n",
    "X_test -= X_test.mean(axis=0)\n",
    "X_test /= X_test.std(axis=0)\n",
    "# 定義模型\n",
    "model = Sequential()\n",
    "model.add(Dense(11, input_dim=X_train.shape[1], activation=\"relu\"))\n",
    "model.add(Dense(11, activation=\"relu\"))\n",
    "model.add(Dense(1, activation=\"sigmoid\"))\n",
    "model.summary()   # 顯示模型摘要資訊\n",
    "# 編譯模型\n",
    "model.compile(loss=\"binary_crossentropy\", optimizer=\"adam\",\n",
    "              metrics=[\"accuracy\"])\n",
    "# 訓練模型\n",
    "print(\"Training ...\")\n",
    "history = model.fit(X_train, Y_train, validation_split=0.2, \n",
    "          epochs=100, batch_size=10, verbose=0)\n",
    "# 評估模型\n",
    "print(\"\\nTesting ...\")\n",
    "loss, accuracy = model.evaluate(X_train, Y_train)\n",
    "print(\"訓練資料集的準確度 = {:.2f}\".format(accuracy))\n",
    "loss, accuracy = model.evaluate(X_test, Y_test)\n",
    "print(\"測試資料集的準確度 = {:.2f}\".format(accuracy))\n",
    "# 顯示圖表來分析模型的訓練過程\n",
    "import matplotlib.pyplot as plt\n",
    "# 顯示訓練和驗證損失\n",
    "loss = history.history[\"loss\"]\n",
    "epochs = range(1, len(loss)+1)\n",
    "val_loss = history.history[\"val_loss\"]\n",
    "plt.plot(epochs, loss, \"b-\", label=\"Training Loss\")\n",
    "plt.plot(epochs, val_loss, \"r--\", label=\"Validation Loss\")\n",
    "plt.title(\"Training and Validation Loss\")\n",
    "plt.xlabel(\"Epochs\")\n",
    "plt.ylabel(\"Loss\")\n",
    "plt.legend()\n",
    "plt.show()\n",
    "# 顯示訓練和驗證準確度\n",
    "acc = history.history[\"accuracy\"]\n",
    "epochs = range(1, len(acc)+1)\n",
    "val_acc = history.history[\"val_accuracy\"]\n",
    "plt.plot(epochs, acc, \"b-\", label=\"Training Acc\")\n",
    "plt.plot(epochs, val_acc, \"r--\", label=\"Validation Acc\")\n",
    "plt.title(\"Training and Validation Accuracy\")\n",
    "plt.xlabel(\"Epochs\")\n",
    "plt.ylabel(\"Accuracy\")\n",
    "plt.legend()\n",
    "plt.show()"
   ]
  },
  {
   "cell_type": "markdown",
   "metadata": {},
   "source": [
    "### Ch6_2_3a.py"
   ]
  },
  {
   "cell_type": "code",
   "execution_count": 9,
   "metadata": {},
   "outputs": [
    {
     "name": "stdout",
     "output_type": "stream",
     "text": [
      "Training ...\n",
      "\n",
      "Testing ...\n",
      "1045/1045 [==============================] - 0s 34us/step\n",
      "訓練資料集的準確度 = 0.80\n",
      "264/264 [==============================] - 0s 20us/step\n",
      "測試資料集的準確度 = 0.79\n",
      "Saving Model: titanic.h5 ...\n"
     ]
    }
   ],
   "source": [
    "import numpy as np\n",
    "import pandas as pd\n",
    "from keras.models import Sequential\n",
    "from keras.layers import Dense\n",
    "\n",
    "seed = 7\n",
    "np.random.seed(seed)\n",
    "# 載入Titanic的訓練和測試資料集\n",
    "df_train = pd.read_csv(\"./titanic_train.csv\")\n",
    "df_test = pd.read_csv(\"./titanic_test.csv\")\n",
    "dataset_train = df_train.values\n",
    "dataset_test = df_test.values\n",
    "# 分割成特徵資料和標籤資料\n",
    "X_train = dataset_train[:, 0:9]\n",
    "Y_train = dataset_train[:, 9]\n",
    "X_test = dataset_test[:, 0:9]\n",
    "Y_test = dataset_test[:, 9]\n",
    "# 特徵標準化\n",
    "X_train -= X_train.mean(axis=0)\n",
    "X_train /= X_train.std(axis=0)\n",
    "X_test -= X_test.mean(axis=0)\n",
    "X_test /= X_test.std(axis=0)\n",
    "# 定義模型\n",
    "model = Sequential()\n",
    "model.add(Dense(11, input_dim=X_train.shape[1], activation=\"relu\"))\n",
    "model.add(Dense(11, activation=\"relu\"))\n",
    "model.add(Dense(1, activation=\"sigmoid\"))\n",
    "# 編譯模型\n",
    "model.compile(loss=\"binary_crossentropy\", optimizer=\"adam\",\n",
    "              metrics=[\"accuracy\"])\n",
    "# 訓練模型\n",
    "print(\"Training ...\")\n",
    "model.fit(X_train, Y_train, epochs=18, batch_size=10, verbose=0)\n",
    "# 評估模型\n",
    "print(\"\\nTesting ...\")\n",
    "loss, accuracy = model.evaluate(X_train, Y_train)\n",
    "print(\"訓練資料集的準確度 = {:.2f}\".format(accuracy))\n",
    "loss, accuracy = model.evaluate(X_test, Y_test)\n",
    "print(\"測試資料集的準確度 = {:.2f}\".format(accuracy))\n",
    "# 儲存Keras模型\n",
    "print(\"Saving Model: titanic.h5 ...\")\n",
    "model.save(\"titanic.h5\")"
   ]
  },
  {
   "cell_type": "markdown",
   "metadata": {},
   "source": [
    "### Ch6_2_4.py"
   ]
  },
  {
   "cell_type": "code",
   "execution_count": 10,
   "metadata": {},
   "outputs": [
    {
     "name": "stdout",
     "output_type": "stream",
     "text": [
      "\n",
      "Testing ...\n",
      "264/264 [==============================] - 0s 91us/step\n",
      "測試資料集的準確度 = 0.79\n",
      "\n",
      "Predicting ...\n",
      "[1 1 0 1 1 1 1 0 0 1 1 0 0 1 1 0 0 1 1 1 0 1 0 1 1 0 1 1 0 0 1 0 0 1 0 1 0\n",
      " 0 0 0 0 0 1 0 1 0 0 1 0 1 1 1 0 0 1 1 1 1 0 0 0 1 1 1 0 1 1 0 0 0 1 0 0 0\n",
      " 1 1 0 1 0 0 1 1 0 1 0 0 1 1 0 0 0 0 0 0 0 0 0 0 1 0 1 0 0 0 0 1 1 1 0 0 0\n",
      " 0 1 0 0 0 0 0 0 0 1 0 1 0 0 0 1 0 1 0 0 0 0 0 0 0 0 0 1 0 1 0 0 0 0 0 0 1\n",
      " 0 0 0 0 0 0 0 0 0 0 0 0 0 1 0 0 0 0 0 0 0 0 0 0 1 1 0 0 0 0 0 0 0 0 0 1 0\n",
      " 0 0 0 0 1 0 0 0 0 0 0 1 0 1 0 0 0 0 0 0 0 0 1 1 0 0 0 0 0 1 1 0 0 1 0 0 0\n",
      " 0 0 0 1 1 0 0 0 0 0 0 0 0 0 0 0 0 0 1 0 0 0 0 0 0 1 0 0 0 0 0 0 1 0 0 0 1\n",
      " 0 0 1 1 0]\n",
      "[0 1 0 1 1 1 1 1 0 1 1 1 0 1 1 1 1 1 0 0 0 1 0 1 0 1 1 1 0 0 1 0 1 1 0 1 0\n",
      " 1 0 0 0 0 1 0 1 0 1 1 0 1 1 1 0 0 1 1 1 1 0 0 0 0 1 1 0 0 1 0 0 0 1 0 0 0\n",
      " 1 1 0 1 0 0 1 1 0 1 0 0 1 0 0 0 0 0 0 0 0 1 0 0 1 0 0 1 0 0 0 1 1 1 0 0 1\n",
      " 0 1 1 0 0 1 1 0 0 1 1 1 0 0 0 1 1 1 0 1 0 0 1 0 0 1 0 1 0 1 1 1 0 0 0 0 0\n",
      " 0 0 0 0 0 1 0 0 1 0 1 0 0 1 0 0 0 0 0 1 0 0 0 0 1 1 0 0 0 0 0 0 0 1 0 1 1\n",
      " 0 1 0 0 0 0 0 0 1 0 1 0 0 0 0 1 0 0 0 1 0 1 0 0 0 0 0 0 0 1 1 0 1 1 0 0 0\n",
      " 0 0 0 0 1 0 0 0 0 0 0 0 0 0 0 0 1 0 1 0 0 0 0 0 1 0 0 0 0 0 0 0 0 0 0 0 1\n",
      " 0 0 0 0 0]\n",
      "predict    0   1\n",
      "label           \n",
      "0        150  19\n",
      "1         36  59\n"
     ]
    }
   ],
   "source": [
    "import numpy as np\n",
    "import pandas as pd\n",
    "from keras.models import Sequential\n",
    "from keras.models import load_model\n",
    "\n",
    "seed = 7\n",
    "np.random.seed(seed)\n",
    "# 載入Titanic的測試資料集\n",
    "df_test = pd.read_csv(\"./titanic_test.csv\")\n",
    "dataset_test = df_test.values\n",
    "# 分割成特徵資料和標籤資料\n",
    "X_test = dataset_test[:, 0:9]\n",
    "Y_test = dataset_test[:, 9]\n",
    "# 特徵標準化\n",
    "X_test -= X_test.mean(axis=0)\n",
    "X_test /= X_test.std(axis=0)\n",
    "# 建立Keras的Sequential模型\n",
    "model = Sequential()\n",
    "model = load_model(\"titanic.h5\")\n",
    "# 編譯模型\n",
    "model.compile(loss=\"binary_crossentropy\", optimizer=\"adam\",\n",
    "              metrics=[\"accuracy\"])\n",
    "# 評估模型\n",
    "print(\"\\nTesting ...\")\n",
    "loss, accuracy = model.evaluate(X_test, Y_test)\n",
    "print(\"測試資料集的準確度 = {:.2f}\".format(accuracy))\n",
    "# 計算分類的預測值\n",
    "print(\"\\nPredicting ...\")\n",
    "Y_pred = model.predict_classes(X_test)\n",
    "print(Y_pred[:,0])\n",
    "print(Y_test.astype(int))\n",
    "# 顯示混淆矩陣\n",
    "tb = pd.crosstab(Y_test.astype(int), Y_pred[:,0],\n",
    "                 rownames=[\"label\"], colnames=[\"predict\"])\n",
    "print(tb)\n",
    "tb.to_html(\"Ch6_2_4.html\")"
   ]
  },
  {
   "cell_type": "code",
   "execution_count": null,
   "metadata": {},
   "outputs": [],
   "source": []
  }
 ],
 "metadata": {
  "kernelspec": {
   "display_name": "Python 3",
   "language": "python",
   "name": "python3"
  },
  "language_info": {
   "codemirror_mode": {
    "name": "ipython",
    "version": 3
   },
   "file_extension": ".py",
   "mimetype": "text/x-python",
   "name": "python",
   "nbconvert_exporter": "python",
   "pygments_lexer": "ipython3",
   "version": "3.7.4"
  }
 },
 "nbformat": 4,
 "nbformat_minor": 2
}
