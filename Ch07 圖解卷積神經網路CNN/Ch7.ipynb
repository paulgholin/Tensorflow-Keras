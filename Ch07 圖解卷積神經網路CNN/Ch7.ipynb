{
 "cells": [
  {
   "cell_type": "markdown",
   "metadata": {},
   "source": [
    "## Ch7_2_2.py"
   ]
  },
  {
   "cell_type": "code",
   "execution_count": 1,
   "metadata": {},
   "outputs": [
    {
     "data": {
      "image/png": "[encoded data removed]",
      "text/plain": [
       "<Figure size 432x288 with 1 Axes>"
      ]
     },
     "metadata": {
      "needs_background": "light"
     },
     "output_type": "display_data"
    }
   ],
   "source": [
    "import numpy as np\n",
    "import matplotlib.pyplot as plt\n",
    "%matplotlib inline\n",
    "\n",
    "img = np.load(\"digit8.npy\")\n",
    "\n",
    "plt.figure()\n",
    "plt.imshow(img, cmap=\"gray\")\n",
    "plt.axis(\"off\")\n",
    "plt.show()"
   ]
  },
  {
   "cell_type": "markdown",
   "metadata": {},
   "source": [
    "## Ch7_2_2a.py"
   ]
  },
  {
   "cell_type": "code",
   "execution_count": 2,
   "metadata": {},
   "outputs": [
    {
     "data": {
      "image/png": "[encoded data removed]",
      "text/plain": [
       "<Figure size 432x288 with 2 Axes>"
      ]
     },
     "metadata": {
      "needs_background": "light"
     },
     "output_type": "display_data"
    }
   ],
   "source": [
    "import numpy as np\n",
    "import matplotlib.pyplot as plt\n",
    "from scipy import signal\n",
    "\n",
    "img = np.load(\"digit8.npy\")\n",
    "edge = [\n",
    "    [0, 1, 0],\n",
    "    [1,-4, 1],\n",
    "    [0, 1, 0]\n",
    "    ]\n",
    "\n",
    "plt.figure()\n",
    "plt.subplot(1, 2, 1)\n",
    "plt.imshow(img, cmap=\"gray\")\n",
    "plt.axis(\"off\")\n",
    "plt.title(\"original image\")\n",
    "\n",
    "plt.subplot(1, 2, 2)\n",
    "c_digit = signal.convolve2d(img, edge, boundary=\"symm\", mode=\"same\")\n",
    "plt.imshow(c_digit, cmap=\"gray\")\n",
    "plt.axis(\"off\")\n",
    "plt.title(\"edge-detection image\")\n",
    "plt.show()  "
   ]
  },
  {
   "cell_type": "markdown",
   "metadata": {},
   "source": [
    "## Ch7_2_2b.py"
   ]
  },
  {
   "cell_type": "code",
   "execution_count": 3,
   "metadata": {},
   "outputs": [
    {
     "data": {
      "image/png": "[encoded data removed]",
      "text/plain": [
       "<Figure size 432x288 with 2 Axes>"
      ]
     },
     "metadata": {
      "needs_background": "light"
     },
     "output_type": "display_data"
    }
   ],
   "source": [
    "import numpy as np\n",
    "import matplotlib.pyplot as plt\n",
    "from scipy import signal\n",
    "\n",
    "img = np.load(\"digit8.npy\")\n",
    "sharpen = [\n",
    "    [0, -1, 0],\n",
    "    [-1, 5, -1],\n",
    "    [0, -1, 0]\n",
    "    ]\n",
    "\n",
    "plt.figure()\n",
    "plt.subplot(1, 2, 1)\n",
    "plt.imshow(img, cmap=\"gray\")\n",
    "plt.axis(\"off\")\n",
    "plt.title(\"original image\")\n",
    "\n",
    "plt.subplot(1, 2, 2)\n",
    "c_digit = signal.convolve2d(img, sharpen, boundary=\"symm\", mode=\"same\")\n",
    "plt.imshow(c_digit, cmap=\"gray\")\n",
    "plt.axis(\"off\")\n",
    "plt.title(\"sharpen image\")\n",
    "plt.show()     "
   ]
  },
  {
   "cell_type": "markdown",
   "metadata": {},
   "source": [
    "## Ch7_2_2c.py"
   ]
  },
  {
   "cell_type": "code",
   "execution_count": 4,
   "metadata": {},
   "outputs": [
    {
     "data": {
      "image/png": "[encoded data removed]",
      "text/plain": [
       "<Figure size 432x288 with 5 Axes>"
      ]
     },
     "metadata": {
      "needs_background": "light"
     },
     "output_type": "display_data"
    }
   ],
   "source": [
    "import numpy as np\n",
    "import matplotlib.pyplot as plt\n",
    "from scipy import signal\n",
    "\n",
    "img = np.load(\"digit3.npy\")\n",
    "filters = [[\n",
    "    [-1, -1, -1],\n",
    "    [ 1,  1,  1],\n",
    "    [ 0,  0,  0]],\n",
    "   [[-1,  1,  0],\n",
    "    [-1,  1,  0],\n",
    "    [-1,  1,  0]],\n",
    "   [[ 0,  0,  0],\n",
    "    [ 1,  1,  1],\n",
    "    [-1, -1, -1]],\n",
    "   [[ 0,  1, -1],\n",
    "    [ 0,  1, -1],\n",
    "    [ 0,  1, -1]]]\n",
    "\n",
    "plt.figure()\n",
    "plt.subplot(1, 5, 1)\n",
    "plt.imshow(img, cmap=\"gray\")\n",
    "plt.axis(\"off\")\n",
    "plt.title(\"original\")\n",
    "\n",
    "for i in range(2, 6):\n",
    "    plt.subplot(1, 5, i)\n",
    "    c = signal.convolve2d(img, filters[i-2], boundary=\"symm\", mode=\"same\")\n",
    "    plt.imshow(c, cmap=\"gray\")\n",
    "    plt.axis(\"off\")\n",
    "    plt.title(\"filter\"+str(i-1))   \n",
    "\n",
    "plt.show()"
   ]
  },
  {
   "cell_type": "code",
   "execution_count": null,
   "metadata": {},
   "outputs": [],
   "source": []
  }
 ],
 "metadata": {
  "kernelspec": {
   "display_name": "Python 3",
   "language": "python",
   "name": "python3"
  },
  "language_info": {
   "codemirror_mode": {
    "name": "ipython",
    "version": 3
   },
   "file_extension": ".py",
   "mimetype": "text/x-python",
   "name": "python",
   "nbconvert_exporter": "python",
   "pygments_lexer": "ipython3",
   "version": "3.7.4"
  }
 },
 "nbformat": 4,
 "nbformat_minor": 2
}
