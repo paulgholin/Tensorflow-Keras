{
 "cells": [
  {
   "cell_type": "code",
   "execution_count": 1,
   "metadata": {},
   "outputs": [
    {
     "name": "stdout",
     "output_type": "stream",
     "text": [
      "{'i': 1, 'hated': 2, 'this': 3, 'movie': 4, 'is': 5, 'not': 6, 'good': 7}\n",
      "[[0. 1. 0. 0. 0. 0. 0. 0.]\n",
      " [0. 0. 1. 0. 0. 0. 0. 0.]\n",
      " [0. 0. 0. 1. 0. 0. 0. 0.]\n",
      " [0. 0. 0. 0. 1. 0. 0. 0.]\n",
      " [0. 0. 0. 0. 0. 0. 0. 0.]\n",
      " [0. 0. 0. 0. 0. 0. 0. 0.]]\n"
     ]
    }
   ],
   "source": [
    "import numpy as np\n",
    "\n",
    "samples = [\"I hated this movie\",\n",
    "           \"This movie is not good\"]\n",
    "\n",
    "token_index = {}\n",
    "\n",
    "def word_tokenize(text):\n",
    "    text = text.lower()\n",
    "    return text.split()\n",
    "    \n",
    "for text in samples:\n",
    "    for word in word_tokenize(text):\n",
    "        if word not in token_index:\n",
    "            token_index[word] = len(token_index) + 1\n",
    "            \n",
    "print(token_index)            \n",
    "\n",
    "max_length = 6\n",
    "results = np.zeros((len(samples), max_length,\n",
    "                    max(token_index.values())+1 ))\n",
    "\n",
    "for i, text in enumerate(samples):\n",
    "    words = list(enumerate(word_tokenize(text)))[:max_length]\n",
    "    for j, word in words:\n",
    "        index = token_index.get(word)\n",
    "        results[i, j, index] = 1.0\n",
    "        \n",
    "print(results[0])"
   ]
  },
  {
   "cell_type": "code",
   "execution_count": null,
   "metadata": {},
   "outputs": [],
   "source": []
  }
 ],
 "metadata": {
  "kernelspec": {
   "display_name": "Python 3",
   "language": "python",
   "name": "python3"
  },
  "language_info": {
   "codemirror_mode": {
    "name": "ipython",
    "version": 3
   },
   "file_extension": ".py",
   "mimetype": "text/x-python",
   "name": "python",
   "nbconvert_exporter": "python",
   "pygments_lexer": "ipython3",
   "version": "3.7.4"
  }
 },
 "nbformat": 4,
 "nbformat_minor": 2
}
