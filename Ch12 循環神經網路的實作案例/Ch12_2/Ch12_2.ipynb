{
 "cells": [
  {
   "cell_type": "markdown",
   "metadata": {},
   "source": [
    "### Ch12_2_1.py"
   ]
  },
  {
   "cell_type": "code",
   "execution_count": 1,
   "metadata": {},
   "outputs": [
    {
     "name": "stdout",
     "output_type": "stream",
     "text": [
      "                  Open        High         Low       Close   Adj Close  \\\n",
      "Date                                                                     \n",
      "2012-01-03  324.360352  331.916199  324.077179  330.555054  330.555054   \n",
      "2012-01-04  330.366272  332.959412  328.175537  331.980774  331.980774   \n",
      "2012-01-05  328.925659  329.839722  325.994720  327.375732  327.375732   \n",
      "2012-01-06  327.445282  327.867523  322.795532  322.909790  322.909790   \n",
      "2012-01-09  321.161163  321.409546  308.607819  309.218842  309.218842   \n",
      "\n",
      "              Volume  \n",
      "Date                  \n",
      "2012-01-03   7400800  \n",
      "2012-01-04   5765200  \n",
      "2012-01-05   6608400  \n",
      "2012-01-06   5420700  \n",
      "2012-01-09  11720900  \n"
     ]
    }
   ],
   "source": [
    "import pandas as pd\n",
    "\n",
    "# 載入Google股價的訓練資料集\n",
    "df_train = pd.read_csv(\"GOOG_Stock_Price_Train.csv\",\n",
    "                       index_col=\"Date\",parse_dates=True)\n",
    "print(df_train.head())\n",
    "df_train.head().to_html(\"Ch12_2_1.html\")"
   ]
  },
  {
   "cell_type": "markdown",
   "metadata": {},
   "source": [
    "### Ch12_2_1a.py"
   ]
  },
  {
   "cell_type": "code",
   "execution_count": 2,
   "metadata": {},
   "outputs": [
    {
     "name": "stdout",
     "output_type": "stream",
     "text": [
      "筆數:  1258\n",
      "回看天數: 60\n",
      "X_train.shape:  (1198, 60)\n",
      "Y_train.shape:  (1198,)\n",
      "[330.555054 331.980774 327.375732 322.90979  309.218842 309.556641\n",
      " 310.95752  312.785645 310.475647 312.259064 314.410065 317.718536\n",
      " 291.101654 290.868195 288.588013 282.904968 282.214478 288.116089\n",
      " 286.978485 288.180664 288.53833  290.66452  296.238251 302.577026\n",
      " 301.42453  302.954559 303.754364 300.997314 304.121979 302.909851\n",
      " 300.823425 301.300323 300.366394 305.016174 302.005737 301.096649\n",
      " 302.979401 302.68631  307.196991 307.127441 309.189026 308.617737\n",
      " 305.14035  300.52536  301.439423 301.608337 298.185577 300.619751\n",
      " 306.893951 306.00473  308.558136 310.500488 314.94162  314.698181\n",
      " 317.922211 320.937622 319.218781 322.567017 321.419464 325.76123 ]\n",
      "[331.980774 327.375732 322.90979  309.218842 309.556641 310.95752\n",
      " 312.785645 310.475647 312.259064 314.410065 317.718536 291.101654\n",
      " 290.868195 288.588013 282.904968 282.214478 288.116089 286.978485\n",
      " 288.180664 288.53833  290.66452  296.238251 302.577026 301.42453\n",
      " 302.954559 303.754364 300.997314 304.121979 302.909851 300.823425\n",
      " 301.300323 300.366394 305.016174 302.005737 301.096649 302.979401\n",
      " 302.68631  307.196991 307.127441 309.189026 308.617737 305.14035\n",
      " 300.52536  301.439423 301.608337 298.185577 300.619751 306.893951\n",
      " 306.00473  308.558136 310.500488 314.94162  314.698181 317.922211\n",
      " 320.937622 319.218781 322.567017 321.419464 325.76123  322.109985]\n",
      "322.109985\n"
     ]
    }
   ],
   "source": [
    "import numpy as np\n",
    "import pandas as pd\n",
    "\n",
    "# 載入Google股價的訓練資料集\n",
    "df_train = pd.read_csv(\"GOOG_Stock_Price_Train.csv\",\n",
    "                       index_col=\"Date\",parse_dates=True)\n",
    "X_train_set = df_train.iloc[:,4:5].values  # Adj Close欄位\n",
    "X_train_len = len(X_train_set)\n",
    "print(\"筆數: \", X_train_len)\n",
    "# 產生特徵資料和標籤資料\n",
    "def create_dataset(ds, look_back=1):\n",
    "    X_data, Y_data = [],[]\n",
    "    for i in range(len(ds)-look_back):\n",
    "        X_data.append(ds[i:(i+look_back), 0])\n",
    "        Y_data.append(ds[i+look_back, 0])\n",
    "    \n",
    "    return np.array(X_data), np.array(Y_data)\n",
    "\n",
    "look_back = 60\n",
    "X_train, Y_train = create_dataset(X_train_set, look_back)\n",
    "print(\"回看天數:\", look_back)\n",
    "print(\"X_train.shape: \", X_train.shape)\n",
    "print(\"Y_train.shape: \", Y_train.shape)\n",
    "print(X_train[0])\n",
    "print(X_train[1])\n",
    "print(Y_train[0])"
   ]
  },
  {
   "cell_type": "markdown",
   "metadata": {},
   "source": [
    "### Ch12_2_2.py"
   ]
  },
  {
   "cell_type": "code",
   "execution_count": 5,
   "metadata": {},
   "outputs": [
    {
     "name": "stdout",
     "output_type": "stream",
     "text": [
      "回看天數: 60\n",
      "X_train.shape:  (1198, 60, 1)\n",
      "Y_train.shape:  (1198,)\n",
      "Model: \"sequential_3\"\n",
      "_________________________________________________________________\n",
      "Layer (type)                 Output Shape              Param #   \n",
      "=================================================================\n",
      "lstm_7 (LSTM)                (None, 60, 50)            10400     \n",
      "_________________________________________________________________\n",
      "dropout_7 (Dropout)          (None, 60, 50)            0         \n",
      "_________________________________________________________________\n",
      "lstm_8 (LSTM)                (None, 60, 50)            20200     \n",
      "_________________________________________________________________\n",
      "dropout_8 (Dropout)          (None, 60, 50)            0         \n",
      "_________________________________________________________________\n",
      "lstm_9 (LSTM)                (None, 50)                20200     \n",
      "_________________________________________________________________\n",
      "dropout_9 (Dropout)          (None, 50)                0         \n",
      "_________________________________________________________________\n",
      "dense_3 (Dense)              (None, 1)                 51        \n",
      "=================================================================\n",
      "Total params: 50,851\n",
      "Trainable params: 50,851\n",
      "Non-trainable params: 0\n",
      "_________________________________________________________________\n"
     ]
    },
    {
     "data": {
      "image/png": "[encoded data removed]",
      "text/plain": [
       "<Figure size 432x288 with 1 Axes>"
      ]
     },
     "metadata": {
      "needs_background": "light"
     },
     "output_type": "display_data"
    }
   ],
   "source": [
    "import numpy as np\n",
    "import pandas as pd\n",
    "from sklearn.preprocessing import MinMaxScaler\n",
    "from keras.models import Sequential\n",
    "from keras.layers import Dense, Dropout, LSTM\n",
    "%matplotlib inline\n",
    "\n",
    "np.random.seed(10)  # 指定亂數種子\n",
    "# 載入Google股價的訓練資料集\n",
    "df_train = pd.read_csv(\"GOOG_Stock_Price_Train.csv\",\n",
    "                       index_col=\"Date\",parse_dates=True)\n",
    "X_train_set = df_train.iloc[:,4:5].values  # Adj Close欄位\n",
    "# 特徵標準化 - 正規化\n",
    "sc = MinMaxScaler() \n",
    "X_train_set = sc.fit_transform(X_train_set)\n",
    "# 取出幾天前股價來建立成特徵和標籤資料集\n",
    "def create_dataset(ds, look_back=1):\n",
    "    X_data, Y_data = [],[]\n",
    "    for i in range(len(ds)-look_back):\n",
    "        X_data.append(ds[i:(i+look_back), 0])\n",
    "        Y_data.append(ds[i+look_back, 0])\n",
    "    \n",
    "    return np.array(X_data), np.array(Y_data)\n",
    "\n",
    "look_back = 60\n",
    "print(\"回看天數:\", look_back)\n",
    "# 分割成特徵資料和標籤資料\n",
    "X_train, Y_train = create_dataset(X_train_set, look_back)\n",
    "# 轉換成(樣本數, 時步, 特徵)張量\n",
    "X_train = np.reshape(X_train, (X_train.shape[0], X_train.shape[1], 1))\n",
    "print(\"X_train.shape: \", X_train.shape)\n",
    "print(\"Y_train.shape: \", Y_train.shape)\n",
    "# 定義模型\n",
    "model = Sequential()\n",
    "model.add(LSTM(50, return_sequences=True, \n",
    "               input_shape=(X_train.shape[1], 1)))\n",
    "model.add(Dropout(0.2))\n",
    "model.add(LSTM(50, return_sequences=True))\n",
    "model.add(Dropout(0.2))\n",
    "model.add(LSTM(50))\n",
    "model.add(Dropout(0.2))\n",
    "model.add(Dense(1))\n",
    "model.summary()   # 顯示模型摘要資訊\n",
    "# 編譯模型\n",
    "model.compile(loss=\"mse\", optimizer=\"adam\")\n",
    "# 訓練模型\n",
    "model.fit(X_train, Y_train, epochs=100, batch_size=32, verbose=0)\n",
    "# 使用模型預測股價 - 2017年1~3月預測 4 月份股價\n",
    "df_test = pd.read_csv(\"GOOG_Stock_Price_Test.csv\")\n",
    "X_test_set = df_test.iloc[:,4:5].values\n",
    "# 產生特徵資料和標籤資料\n",
    "X_test, Y_test = create_dataset(X_test_set, look_back)\n",
    "X_test = sc.transform(X_test)\n",
    "# 轉換成(樣本數, 時步, 特徵)張量\n",
    "X_test = np.reshape(X_test, (X_test.shape[0], X_test.shape[1], 1))\n",
    "X_test_pred = model.predict(X_test)\n",
    "# 將預測值轉換回股價\n",
    "X_test_pred_price = sc.inverse_transform(X_test_pred)\n",
    "# 繪出股價圖表\n",
    "import matplotlib.pyplot as plt\n",
    "\n",
    "plt.plot(Y_test, color=\"red\", label=\"Real Stock Price\")\n",
    "plt.plot(X_test_pred_price, color=\"blue\", label=\"Predicted Stock Price\")\n",
    "plt.title(\"2017 Google Stock Price Prediction\")\n",
    "plt.xlabel(\"Time\")\n",
    "plt.ylabel(\"Google Time Price\")\n",
    "plt.legend()\n",
    "plt.show()"
   ]
  },
  {
   "cell_type": "code",
   "execution_count": null,
   "metadata": {},
   "outputs": [],
   "source": []
  }
 ],
 "metadata": {
  "kernelspec": {
   "display_name": "Python 3",
   "language": "python",
   "name": "python3"
  },
  "language_info": {
   "codemirror_mode": {
    "name": "ipython",
    "version": 3
   },
   "file_extension": ".py",
   "mimetype": "text/x-python",
   "name": "python",
   "nbconvert_exporter": "python",
   "pygments_lexer": "ipython3",
   "version": "3.7.4"
  }
 },
 "nbformat": 4,
 "nbformat_minor": 2
}
